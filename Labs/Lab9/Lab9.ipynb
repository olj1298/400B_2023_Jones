{
 "cells": [
  {
   "cell_type": "markdown",
   "metadata": {},
   "source": [
    "# In Class Lab 9\n",
    "\n",
    "Tutorial to make some interesting plots with widgets and the simulaton data ! \n",
    "\n",
    "Note that the images in this lab will look a lot better if you use the high res files. "
   ]
  },
  {
   "cell_type": "markdown",
   "metadata": {},
   "source": [
    "Graphical widgets -- helpful functions to make a \"graphical user interface\", or GUI.\n",
    "https://matplotlib.org/stable/api/widgets_api.html\n",
    "\n",
    "These widgets need to be able to take input from the mouse and keyboard while the program is running. The most common way this is achieved is to have the code run in an infinite loop which is interrupted whenever input is provided. Some action is taken according to the input, and then the loop starts running again. This sort of algorithm is known as an *event loop* -- the code loops until a user event occurs.\n",
    "\n",
    "`matplotlib` provides a number of simple widgets which automatically create an event loop for us. One can create a widget instance, and then tell the widget what function to run when something happens to the widget. Such a function is called a *callback* -- the event loop calls back to the function we give it in order to take some action before starting up again.\n"
   ]
  },
  {
   "cell_type": "code",
   "execution_count": null,
   "metadata": {},
   "outputs": [],
   "source": [
    "%matplotlib qt\n",
    "# enabling windows to pop up and be interactive\n",
    "\n",
    "\n",
    "import matplotlib.widgets as mwidgets  # get access to the widgets\n",
    "\n",
    "\n",
    "# external modules\n",
    "import matplotlib\n",
    "import matplotlib.pyplot as plt\n",
    "import matplotlib.colors as colors\n",
    "from matplotlib.colors import LogNorm\n",
    "import numpy as np\n",
    "\n",
    "# my modules \n",
    "from ReadFile import Read\n",
    "from CenterOfMass2 import CenterOfMass\n",
    "from MassProfile import MassProfile\n",
    "\n",
    "# I took the code from Lab 7 for making contours and made it into a separate script\n",
    "# NOTE: it is more organized and easier to debug if you keep functions in separate scripts \n",
    "# and then call them when you want to e.g. make plots or do some analysis. \n",
    "from contour import density_contour"
   ]
  },
  {
   "cell_type": "markdown",
   "metadata": {},
   "source": [
    "# PART A : M-$\\sigma$ Relation\n",
    "\n",
    "- Compute the velocity dispersion of the bulge in the Simulated M31.\n",
    "\n",
    "- create a function that defines the  M-$\\sigma$ relation, from  Kormendy & Ho 2013 (eqn 7)\n",
    "\n",
    "$\\left (\\frac{M_{BH}}{10^9 M_\\odot} \\right ) = \\alpha \\left( \\frac{\\sigma}{\\sigma_0}\\right)^\\beta $  \n",
    "\n",
    "$\\alpha$ =  0.309, \n",
    "$\\beta$ = 4.38, \n",
    "$\\sigma_0$ = 200 km/s\n",
    "\n",
    "Comparing to the Simulation:\n",
    "\n",
    "- What mass black hole would you expect from the data? How does this compare to the mass of the SMBH in the real M31 (5-23$\\times 10^7$ M$_\\odot$) "
   ]
  },
  {
   "cell_type": "code",
   "execution_count": null,
   "metadata": {},
   "outputs": [],
   "source": [
    "# Create a COM of object for MW Using Code from Assignment 4\n",
    "# Here we are going to use bulge particles explicitly since we care about \n",
    "# the dynamics of the bulge"
   ]
  },
  {
   "cell_type": "code",
   "execution_count": null,
   "metadata": {},
   "outputs": [],
   "source": [
    "# Compute COM of M31 bulge\n"
   ]
  },
  {
   "cell_type": "code",
   "execution_count": null,
   "metadata": {},
   "outputs": [],
   "source": [
    "# Determine positions of bulge particles relative to COM \n",
    "\n",
    "\n",
    "# Determine the total magnitude of position vector from COM\n",
    "\n",
    "\n",
    "# Determine the velocities of bulge particles relative to COM motion\n"
   ]
  },
  {
   "cell_type": "code",
   "execution_count": null,
   "metadata": {},
   "outputs": [],
   "source": [
    "# average velocity of bulge (within 5 kpc) \n"
   ]
  },
  {
   "cell_type": "code",
   "execution_count": null,
   "metadata": {},
   "outputs": [],
   "source": [
    "# Standard Deviation. ( 1 sigma)\n"
   ]
  },
  {
   "cell_type": "code",
   "execution_count": null,
   "metadata": {},
   "outputs": [],
   "source": [
    "# Define Msigma \n"
   ]
  },
  {
   "cell_type": "markdown",
   "metadata": {},
   "source": [
    "# PART B:  Widgets"
   ]
  },
  {
   "cell_type": "markdown",
   "metadata": {},
   "source": [
    "# PART 1"
   ]
  },
  {
   "cell_type": "code",
   "execution_count": null,
   "metadata": {},
   "outputs": [],
   "source": [
    "# Load in disk particles centered on the MW\n",
    "# this is from the HighRes data files on nimoy so it might take a bit of time to load\n",
    "COM = CenterOfMass(\"MW_000.txt\",2)"
   ]
  },
  {
   "cell_type": "code",
   "execution_count": null,
   "metadata": {},
   "outputs": [],
   "source": [
    "# Compute COM of the MW at the new position using disk particles\n",
    "COMP = COM.COM_P(0.1, 2)\n",
    "COMV = COM.COM_V(COMP[0],COMP[1],COMP[2])\n",
    "# Determine positions of disk particles relative to COM \n",
    "MW_Disk_x = COM.x - COMP[0].value \n",
    "MW_Disk_y = COM.y - COMP[1].value \n",
    "\n",
    "# Also store the disk velocity in the y direction\n",
    "MW_Disk_vy = COM.vy - COMV[1].value"
   ]
  },
  {
   "cell_type": "code",
   "execution_count": null,
   "metadata": {},
   "outputs": [],
   "source": [
    "# Plot the disk of the MW with contours. \n",
    "\n",
    "\n",
    "# MW Disk Density \n",
    "fig, ax= plt.subplots(figsize=(10, 10))\n",
    "\n",
    "## ADD HERE\n",
    "# plot the particle density for MW using plt.hist2d \n",
    "# plt.hist2d(pos1,pos2, bins=, norm=LogNorm(), cmap= )\n",
    "# cmap options: https://matplotlib.org/3.1.0/tutorials/colors/colormaps.html  \n",
    "#   e.g. 'magma', 'viridis'\n",
    "\n",
    "\n",
    "\n",
    "\n",
    "#### ADD HERE \n",
    "# call density_contour to add contours\n",
    "# density_contour(x pos, y pos, contour res, contour res, axis, colors=[colors,colors])\n",
    "\n",
    "\n",
    "\n",
    "\n",
    "\n",
    "# Add axis labels\n",
    "plt.xlabel('x (kpc)', fontsize=22)\n",
    "plt.ylabel('y (kpc)', fontsize=22)\n",
    "\n",
    "#set axis limits\n",
    "plt.ylim(-30,30)\n",
    "plt.xlim(-30,30)\n",
    "\n",
    "#adjust tick label font size\n",
    "label_size = 22\n",
    "matplotlib.rcParams['xtick.labelsize'] = label_size \n",
    "matplotlib.rcParams['ytick.labelsize'] = label_size\n"
   ]
  },
  {
   "cell_type": "markdown",
   "metadata": {},
   "source": [
    "# Part 2  Zooming in on a plot with widgets\n",
    "\n",
    "\n",
    "We can catch characters typed on the keyboard -- *keypress events* -- by connecting a \"key_press_event\" to a callback function which takes an event as an argument.\n",
    "The event object contains a variety of data. The most useful being:\n",
    "\n",
    "    event.key       # the key which was pressed\n",
    "    event.xdata     # the mouse x-position when the key was pressed\n",
    "    event.ydata     # the mouse y-position when the key was pressed\n",
    "    \n",
    "Another useful widget allows the user to select a rectangular region in some axes object, and then calls a callback function with the bounding coordinates (the extent) of the region selected. This is the RectangleSelector widget.\n",
    "\n",
    "Note that click and release are not really that! Click contains the more-negative values and release the more positive values of both x and y coordinates."
   ]
  },
  {
   "cell_type": "code",
   "execution_count": null,
   "metadata": {},
   "outputs": [],
   "source": [
    "\n",
    "def callbackRectangle1( click, release ):\n",
    "    print( f\"button {click.button} pressed\" )\n",
    "    print( f\"button {release.button} released\" )\n",
    "    extent = [ click.xdata, release.xdata, click.ydata, release.ydata ]\n",
    "    print( f\"box extent is {extent}\") \n",
    "    \n",
    "    # ADD - to zoom in, reset the axes to the clicked box size\n",
    "\n",
    "\n",
    "    # save the file as a .png\n",
    "    # comment this out if your code is giving you problems\n",
    "\n",
    "\n"
   ]
  },
  {
   "cell_type": "code",
   "execution_count": null,
   "metadata": {},
   "outputs": [],
   "source": [
    "    # add the  ability to reset the image\n",
    "def onKeyPressed(event):\n",
    "    \n",
    "    if event.key in ['R', 'r']:\n",
    "        # ADD - to zoom back out reset the axes"
   ]
  },
  {
   "cell_type": "code",
   "execution_count": null,
   "metadata": {},
   "outputs": [],
   "source": [
    "# plot the particle density for the MW Disk and then zoom in on a region of the disk \n",
    "\n",
    "fig, ax = plt.subplots(figsize =(10 ,10))                             # create an axes\n",
    "\n",
    "plt.hist2d(MW_Disk_x,MW_Disk_y, bins=300, norm=LogNorm(), cmap='magma')\n",
    "plt.colorbar(label='Number  of  stars  per  bin')\n",
    "\n",
    "\n",
    "# make the contour plot\n",
    "# x pos, y pos, contour res, contour res, axis, colors for contours.\n",
    "density_contour(MW_Disk_x, MW_Disk_y, 80, 80, ax=ax, \\\n",
    "                colors=['white'])\n",
    "   \n",
    "\n",
    "    \n",
    "## NEW: Rectangle Selector.     \n",
    "rs = mwidgets.RectangleSelector1( ax,                        # the axes to attach to\n",
    "                           callbackRectangle,         # the callback function\n",
    "                           button=[1, 3],             # allow us to use left or right mouse button\n",
    "                                                      #button 1 is left mouse button\n",
    "                           minspanx=5, minspany=5,    # don't accept a box of fewer than 5 pixels\n",
    "                           spancoords='pixels' )      # units for above\n",
    "\n",
    "\n",
    "\n",
    "#set axis limits\n",
    "ax.set_ylim(-30,30)\n",
    "ax.set_xlim(-30,30)\n",
    "\n",
    "\n",
    "# Add axis labels\n",
    "plt.xlabel('x (kpc)', fontsize=22)\n",
    "plt.ylabel('y (kpc)', fontsize=22)\n",
    "\n",
    "# ADDED THIS\n",
    "# Press 'R' key to reset AND THEN\n",
    "# to detect the 'R' key, click escape to reset the image\n",
    "plt.connect(\"key_press_event\", onKeyPressed)\n"
   ]
  },
  {
   "cell_type": "markdown",
   "metadata": {},
   "source": [
    "# Part C    Connecting Morphology to Kinematics\n",
    "\n",
    "\n",
    "Make a two panel plot.\n",
    "Left Panel:  Density \n",
    "Right Panel: Phase Diagram \n",
    "\n",
    "Relect a section of the density plot and see where the particles are on the phase diagram"
   ]
  },
  {
   "cell_type": "code",
   "execution_count": null,
   "metadata": {},
   "outputs": [],
   "source": [
    "# ADD MassProfile Object.\n",
    "\n"
   ]
  },
  {
   "cell_type": "code",
   "execution_count": null,
   "metadata": {},
   "outputs": [],
   "source": [
    "\n",
    "# Add an array for radii up to 40 kpc\n",
    "\n",
    "\n",
    "# Store Vcirc "
   ]
  },
  {
   "cell_type": "code",
   "execution_count": null,
   "metadata": {},
   "outputs": [],
   "source": [
    "\n",
    "def callbackRectangle2( click, release ):\n",
    "    print( f\"button {click.button} pressed\" )\n",
    "    print( f\"button {release.button} released\" )\n",
    "    extent = [ click.xdata, release.xdata, click.ydata, release.ydata ]\n",
    "    print( f\"box extent is {extent}\") \n",
    "    \n",
    "    # Add a yellow rectangle to where we selected a region rather than zooming in\n",
    "    # xy need bottom left corner\n",
    "    width = np.abs(release.xdata - click.xdata)\n",
    "    height = np.abs(click.ydata-release.ydata )\n",
    "    \n",
    "    # Create a rectangle \n",
    "    Rect = plt.Rectangle( (click.xdata,click.ydata),  width, height, fill=False, color='yellow', linewidth=3)\n",
    "    # xy, width, height, angle=0.0, **kwargs\n",
    "    ax[0].add_patch(Rect) # add the rectangle to the axis object.\n",
    "    \n",
    "    \n",
    "    # Plotting the corresponding points on the left panel\n",
    "    # make sure pick rectangle from bottom left corner upwards \n",
    "    index = np.where( (MW_Disk_x > click.xdata) & (MW_Disk_x < release.xdata)& (MW_Disk_y > click.ydata ) \\\n",
    "        & (MW_Disk_y < release.ydata))\n",
    "    ax[1].scatter(MW_Disk_x[index],MW_Disk_vy[index])\n",
    "    \n",
    "    # save the file as a .png\n",
    "    # comment this out if your code is giving you problems\n",
    "    plt.savefig(\"Lab9_Position_Velocity.png\")\n",
    "\n",
    "    \n"
   ]
  },
  {
   "cell_type": "code",
   "execution_count": null,
   "metadata": {},
   "outputs": [],
   "source": [
    "# Now also want to see the corrsponding phase diagram for that region\n",
    "\n",
    "\n",
    "fig,ax = plt.subplots(nrows=1, ncols=2, figsize=(30,10), constrained_layout=True)    \n",
    "        #   ax[0] for Position\n",
    "        #   ax[1] for Velocity \n",
    "\n",
    "                                                  \n",
    "ax[0].hist2d(MW_Disk_x,MW_Disk_y, bins=200, norm=LogNorm(), cmap='magma')\n",
    "\n",
    "density_contour(MW_Disk_x, MW_Disk_y, 80, 80, ax=ax[0], \\\n",
    "                colors=['red','white','white', 'white', 'white', 'white', 'white', 'white'])\n",
    "#set axis limits\n",
    "ax[0].set_ylim(-30,30)\n",
    "ax[0].set_xlim(-30,30)  \n",
    "\n",
    "# Add axis labels\n",
    "ax[0].set_xlabel('x (kpc)', fontsize=15)\n",
    "ax[0].set_ylabel('y (kpc)', fontsize=15)\n",
    "\n",
    "\n",
    "# Phase Diagram : X vs. VY \n",
    "\n",
    "ax[1].hist2d(MW_Disk_x,MW_Disk_vy, bins=500, norm=LogNorm(), cmap='magma')\n",
    "ax[1].set_xlim(-30,30)\n",
    "\n",
    "# Add axis labels\n",
    "ax[1].set_xlabel('x (kpc)', fontsize=15)\n",
    "ax[1].set_ylabel('Velocity Y Component (km/s)', fontsize=15)\n",
    "\n",
    "# Add the circular velocity\n",
    "ax[1].plot(R, -Vcirc, color=\"blue\")\n",
    "ax[1].plot(-R, Vcirc, color=\"blue\")\n",
    "                        \n",
    "    \n",
    "rs = mwidgets.RectangleSelector( ax[0],                        # the axes to attach to\n",
    "                           callbackRectangle2,         # the callback function\n",
    "                           button=[1, 3],             # allow us to use left or right mouse button\n",
    "                           minspanx=5, minspany=5,    # don't accept a box of fewer than 5 pixels\n",
    "                           spancoords='pixels' )      # units for above\n",
    "\n"
   ]
  },
  {
   "cell_type": "markdown",
   "metadata": {},
   "source": [
    "# Part D:  Flip it around : connect kinematics to morphology\n",
    "\n",
    "Now Pick based on kinematics and find out where they are in the disk.\n",
    "This would be a good way to find e.g. high velocity particles. or particles that are really not obeying the normal kinematics of the disk at the current time."
   ]
  },
  {
   "cell_type": "code",
   "execution_count": null,
   "metadata": {},
   "outputs": [],
   "source": [
    "# Copy over the Call back function and the onkeypressed function from Part C\n",
    "# flip the axes ax[0] < --- > ax[1]\n"
   ]
  },
  {
   "cell_type": "code",
   "execution_count": null,
   "metadata": {},
   "outputs": [],
   "source": []
  },
  {
   "cell_type": "code",
   "execution_count": null,
   "metadata": {},
   "outputs": [],
   "source": [
    "# Copy over the Density and phase diagram code\n",
    "# flip the axes ax[0]<--> ax[1]"
   ]
  },
  {
   "cell_type": "code",
   "execution_count": null,
   "metadata": {},
   "outputs": [],
   "source": []
  },
  {
   "cell_type": "markdown",
   "metadata": {},
   "source": [
    "# Part E : Connecting particles across snapshots\n"
   ]
  },
  {
   "cell_type": "code",
   "execution_count": null,
   "metadata": {},
   "outputs": [],
   "source": [
    "# Load in a different Snapshot"
   ]
  },
  {
   "cell_type": "code",
   "execution_count": null,
   "metadata": {},
   "outputs": [],
   "source": [
    "\n",
    "# Compute COM of M31 using disk particles\n",
    "\n",
    "# Determine positions of disk particles relative to COM \n",
    "\n"
   ]
  },
  {
   "cell_type": "code",
   "execution_count": null,
   "metadata": {},
   "outputs": [],
   "source": [
    "# Copy over the Call back function from Part C\n",
    "# Edit so that it overplots a scatter of particles from the new snapshot"
   ]
  },
  {
   "cell_type": "code",
   "execution_count": null,
   "metadata": {},
   "outputs": [],
   "source": [
    "# Copy over the plotting script from Part C\n",
    "# Instead of the phase plot, have the second panel be the MW at a different snapshot\n"
   ]
  }
 ],
 "metadata": {
  "kernelspec": {
   "display_name": "Python 3 (ipykernel)",
   "language": "python",
   "name": "python3"
  },
  "language_info": {
   "codemirror_mode": {
    "name": "ipython",
    "version": 3
   },
   "file_extension": ".py",
   "mimetype": "text/x-python",
   "name": "python",
   "nbconvert_exporter": "python",
   "pygments_lexer": "ipython3",
   "version": "3.9.13"
  }
 },
 "nbformat": 4,
 "nbformat_minor": 2
}
