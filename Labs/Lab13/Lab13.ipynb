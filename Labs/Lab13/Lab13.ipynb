{
 "cells": [
  {
   "cell_type": "markdown",
   "metadata": {},
   "source": [
    "# Lab 13 Template              \n",
    "\n",
    "Proving that the SNe data is consistent with the BenchMark Cosmology.\n"
   ]
  },
  {
   "cell_type": "code",
   "execution_count": null,
   "metadata": {},
   "outputs": [],
   "source": [
    "import numpy as np\n",
    "import matplotlib.pyplot as plt\n",
    "%matplotlib inline\n",
    "\n",
    "import astropy.units as u\n",
    "from astropy.constants import c\n",
    "\n",
    "# Importing the solutions from Lab 12-14\n",
    "from Lab12_Template import CosmologicalTools"
   ]
  },
  {
   "cell_type": "code",
   "execution_count": null,
   "metadata": {},
   "outputs": [],
   "source": [
    "\n",
    "# Define the benchmark cosmology at z =0\n",
    "# Planck 2016 results. XIII. Cosmological parameters   \n",
    "# Planck Collaboration+2016 A&A 594 13  Table 4, column 2 \n",
    "\n",
    "OmegaM0_planck = 0.308   # Matter Density Parameter\n",
    "OmegaR0_planck = 8.24e-5  # Radiation Density Parameter\n",
    "OmegaL0_planck = 0.692  # Dark Energy Density Parameter\n",
    "h_planck = 0.6781   # Hubble Constant  100 h km/s/Mpc\n"
   ]
  },
  {
   "cell_type": "code",
   "execution_count": null,
   "metadata": {},
   "outputs": [],
   "source": [
    "# Define the Einstein-DeSitter cosmology (Matter Dominated)\n",
    "OmegaMD = 1\n",
    "OmegaRD = 0\n",
    "OmegaLD = 0\n",
    "# h is the same = h_planck"
   ]
  },
  {
   "cell_type": "code",
   "execution_count": null,
   "metadata": {},
   "outputs": [],
   "source": [
    "BenchMark = CosmologicalTools(OmegaM0_planck,OmegaR0_planck,OmegaL0_planck,h_planck)\n",
    "EinsteinDeSitter = CosmologicalTools(OmegaMD,OmegaRD,OmegaLD,h_planck)"
   ]
  },
  {
   "cell_type": "markdown",
   "metadata": {},
   "source": [
    "\n",
    "\n",
    "In this exercise we will use data from the Supernova Cosmology project, one of the two teams which first found that the expansion rate of the Universe is accelerating in 1999. A simple introduction to the methods and findings of the SCP group can be found at https://newscenter.lbl.gov/2009/10/27/evolving-dark-energy/. The original paper is Perlmutter *et al.* 1999, \"Measurement of $\\Omega$ and $\\Lambda$ from 42 High Redshift Supernovae\", The Astrophysical Journal, Vol. 517, page 565.\n",
    "\n",
    "The data set we will be using is a more recent sample, containing observations of 580 supernovae, known as the Union 2.1 sample from the paper Suzuki *et al*. 2012, \"THE *HUBBLE SPACE TELESCOPE* CLUSTER SUPERNOVA SURVEY. V. IMPROVING THE DARK-ENERGY CONSTRAINTS ABOVE $z>1$ AND BUILDING AN EARLY-TYPE-HOSTED SUPERNOVA SAMPLE\", The Astrophysical Journal, vol. 746, page 85.\n",
    "\n",
    "The data are in the file SNeData.txt."
   ]
  },
  {
   "cell_type": "markdown",
   "metadata": {},
   "source": [
    "Take a look at the file using the `with` statement. \n",
    "\n",
    "One should always close files when finished using them.\n",
    "The `with` statement makes this automatic; using it is a good habit to form.\n",
    "\n",
    "Lets simply open the file and print out the first 10 lines to see how the file is formatted:"
   ]
  },
  {
   "cell_type": "code",
   "execution_count": null,
   "metadata": {
    "scrolled": true
   },
   "outputs": [],
   "source": [
    "with open('SNeData.txt', 'r') as infile:\n",
    "    for i in range(10):\n",
    "        line = infile.readline()\n",
    "        line = line.rstrip(\"\\n\")\n",
    "        print(line)"
   ]
  },
  {
   "cell_type": "markdown",
   "metadata": {},
   "source": [
    "The top of any good data file intended for sharing with others contains a \"header\" -- some lines at the top which describe the contents of the file.\n",
    "\n",
    "Here we see that the file contains the SCP Union2.1 data, and that the columns are:\n",
    "\n",
    " * the name of the supernova\n",
    " * the redshift measured from its spectrum\n",
    " * its distance modulus\n",
    " * an estimate of the measurement error in the distance modulus\n",
    " * the probability the supernova occurred in a low-mass host galaxy\n",
    " \n",
    "For this exercise, we won't care what a supernova's name is, and we won't get to the last column until the end of the exercise."
   ]
  },
  {
   "cell_type": "markdown",
   "metadata": {},
   "source": [
    "# Part A"
   ]
  },
  {
   "cell_type": "markdown",
   "metadata": {},
   "source": [
    "The difference between the absolute magnitude $M$ and the apparent magnitude $m$, a number called the *distance modulus* which depends only upon the distance to the source\n",
    "\n",
    "$$\n",
    "\\begin{split}\n",
    "m-M &= - 2.5 \\log_{10} \\left(\\frac{1}{F_0}\\frac{L}{4\\pi d^2}\\right) + 2.5 \\log_{10}\\left(\\frac{1}{F_0}\\frac{L}{4\\pi(10\\ \\textrm{pc})^2}\\right)  \\\\\n",
    "&= 5 \\log_{10}\\left(\\frac{d}{10\\ \\textrm{pc}}\\right)\n",
    "\\end{split}\n",
    "$$\n",
    "Because $M$ and $m$ are logarithmic functions, their difference is proportional to the *ratio* of the distance $d$ to 10 pc.\n",
    "\n",
    "This is the distance measurement given in the data file for the distance to the supernovae. The measured LUMINOSITY distance is then\n",
    "\n",
    "$$ d_L = 10^{(m-M)/5 +1} \\textrm{pc} $$"
   ]
  },
  {
   "cell_type": "code",
   "execution_count": null,
   "metadata": {},
   "outputs": [],
   "source": [
    "def Distance_fromMod(mod):\n",
    "\"\"\" Function to compute the distance using the distance modulus\n",
    "    PARAMETERS\n",
    "    ----------\n",
    "    mod: `float`\n",
    "        distance modulus (apparent magnitude - absolute magnitude)\n",
    "\n",
    "    OUTPUTS\n",
    "    -------\n",
    "    DL: `float`\n",
    "        luminiosity distance in Mpc\n",
    "    \"\"\"\n",
    "\n",
    "## FILL THIS IN \n",
    "    return "
   ]
  },
  {
   "cell_type": "code",
   "execution_count": null,
   "metadata": {},
   "outputs": [],
   "source": [
    "\n",
    "# Read in the file \"SNeData.txt\" using `npgenfromtxt`\n",
    "\n",
    "\n"
   ]
  },
  {
   "cell_type": "code",
   "execution_count": null,
   "metadata": {},
   "outputs": [],
   "source": [
    "# Create a plot of Distance Modulus Vs. Redshift\n",
    "\n",
    "plt.rcParams[\"figure.dpi\"] = 120\n",
    "\n",
    "\n",
    "# plt.plot(## , ## 'b.')\n",
    "plt.xlabel('redshift')\n",
    "plt.ylabel('m-M')\n"
   ]
  },
  {
   "cell_type": "markdown",
   "metadata": {},
   "source": [
    "# Part B\n",
    "\n",
    "Now let's form an actual distance in mega-parsecs (Mpc) from the distance modulus and a velocity in km/second from the redshifts"
   ]
  },
  {
   "cell_type": "code",
   "execution_count": null,
   "metadata": {},
   "outputs": [],
   "source": [
    "# 1) Distance\n"
   ]
  },
  {
   "cell_type": "code",
   "execution_count": null,
   "metadata": {},
   "outputs": [],
   "source": [
    "# 2) velocity "
   ]
  },
  {
   "cell_type": "markdown",
   "metadata": {},
   "source": [
    "# Part C\n",
    "plot distance versus velocity just for the \"nearby\" supernovae, those within 200 Mpc of Earth. We can select the set of indices of the nearby supernovae using the `numpy.where` function"
   ]
  },
  {
   "cell_type": "code",
   "execution_count": null,
   "metadata": {},
   "outputs": [],
   "source": [
    "# Create an index for the nearby supernovae\n"
   ]
  },
  {
   "cell_type": "code",
   "execution_count": null,
   "metadata": {},
   "outputs": [],
   "source": [
    "# get the number of nearby supernovae\n"
   ]
  },
  {
   "cell_type": "code",
   "execution_count": null,
   "metadata": {},
   "outputs": [],
   "source": [
    "# Plot the Luminosity Distance vs. Recessional Speed for all nearby Supernovae\n",
    "\n",
    "plt.rcParams[\"figure.dpi\"] = 120\n",
    "\n",
    "# Fill this in \n",
    "# plt.plot(##, ## ,'.')\n",
    "\n",
    "plt.xlabel('velocity [km/s]')\n",
    "plt.ylabel('distance [Mpc]')\n",
    "\n",
    "# Fill this in :   Add a relevant title\n",
    "# plt.title(f\"{ ### } nearest supernovae within 200 Mpc\")"
   ]
  },
  {
   "cell_type": "markdown",
   "metadata": {},
   "source": [
    "# Part D\n",
    "\n",
    "Plot a linear relationship atop the data"
   ]
  },
  {
   "cell_type": "code",
   "execution_count": null,
   "metadata": {},
   "outputs": [],
   "source": [
    "# Create a linear model\n",
    "# V = H*R --> R = V/ H \n",
    "\n",
    "# 1/Ho ~ Age of the universe \n",
    "# this line is equivalently = t_age * VR[near] --> constant expansion over time.\n",
    "\n"
   ]
  },
  {
   "cell_type": "code",
   "execution_count": null,
   "metadata": {},
   "outputs": [],
   "source": [
    "# Recreate the plot, now including the linear model\n",
    "# FILL THIS IN \n",
    "\n"
   ]
  },
  {
   "cell_type": "markdown",
   "metadata": {},
   "source": [
    "# Part E\n",
    "\n",
    "Let's now try plotting the whole dataset, which extends to distances far beyond what Hubble could have measured in his day"
   ]
  },
  {
   "cell_type": "code",
   "execution_count": null,
   "metadata": {},
   "outputs": [],
   "source": [
    "# Plot the whole data set. Not just the nearby Sne. \n",
    "# FILL THIS IN \n",
    "\n"
   ]
  },
  {
   "cell_type": "markdown",
   "metadata": {},
   "source": [
    "# Part F\n",
    "\n",
    "Instead of assuming a linear model, let's use our code to compute a model for the luminosity distance to objects moving with the Hubble flow. \n"
   ]
  },
  {
   "cell_type": "code",
   "execution_count": null,
   "metadata": {},
   "outputs": [],
   "source": [
    "# define a vector of redshifts to compute the luminosity distance\n"
   ]
  },
  {
   "cell_type": "code",
   "execution_count": null,
   "metadata": {},
   "outputs": [],
   "source": [
    "## Compute the corresponding recessional velocities\n"
   ]
  },
  {
   "cell_type": "code",
   "execution_count": null,
   "metadata": {},
   "outputs": [],
   "source": [
    "## Compute the Luminosity Distance at each redshift  in the BenchMark and Einstein-DeSitter Universes.\n",
    "\n",
    "\n",
    "\n"
   ]
  },
  {
   "cell_type": "code",
   "execution_count": null,
   "metadata": {},
   "outputs": [],
   "source": [
    "## Plot the New models on top of the data. \n",
    "## FILL THIS IN\n",
    "\n",
    "\n"
   ]
  },
  {
   "cell_type": "markdown",
   "metadata": {},
   "source": [
    "# Part G\n",
    "We can characterize how well the model fits the data by computing the  \"$\\chi^2$\" of the model with respect to the data\n",
    "\n",
    "$$ \\chi = \\sqrt{ \\frac{\\sum_i (\\textrm{model}(z_i) - r_i)}{N-1} } $$\n",
    "\n",
    "Let's write a function to do this:"
   ]
  },
  {
   "cell_type": "code",
   "execution_count": null,
   "metadata": {},
   "outputs": [],
   "source": [
    "def chi(model, data):\n",
    "    \"\"\" Function to compute the deviation between a model and data \n",
    "            Chi = sqrt (Sum (deviation between model and data) / N-1)\n",
    "    \n",
    "    PARAMETERS\n",
    "    ---------\n",
    "    model: `np.darray`\n",
    "        Array containing the model to be compared to the data\n",
    "        \n",
    "    data: `np.array`\n",
    "        Array containing the data to be compared to the model\n",
    "    \n",
    "    OUTPUTS\n",
    "    -------\n",
    "    Chi: `float`\n",
    "        Describes how well the model fits the data \n",
    "    \n",
    "    \"\"\"\n",
    "\n",
    "    return "
   ]
  },
  {
   "cell_type": "markdown",
   "metadata": {},
   "source": [
    "The $\\chi$ of our linear model is then"
   ]
  },
  {
   "cell_type": "code",
   "execution_count": null,
   "metadata": {},
   "outputs": [],
   "source": []
  },
  {
   "cell_type": "markdown",
   "metadata": {},
   "source": [
    "The $\\chi$ of our Einstein-DeSitter Luminosity Distance model is then"
   ]
  },
  {
   "cell_type": "code",
   "execution_count": null,
   "metadata": {},
   "outputs": [],
   "source": []
  },
  {
   "cell_type": "markdown",
   "metadata": {},
   "source": [
    "The $\\chi$ of our BenchMark model is then"
   ]
  },
  {
   "cell_type": "code",
   "execution_count": null,
   "metadata": {},
   "outputs": [],
   "source": []
  },
  {
   "cell_type": "markdown",
   "metadata": {},
   "source": [
    "To test this more rigorously we could run through different values of Omega_M and Omega_L and generate probability contours (rather than $\\chi$)\n",
    "\n",
    "![title](scp2.1.png)"
   ]
  },
  {
   "cell_type": "code",
   "execution_count": null,
   "metadata": {},
   "outputs": [],
   "source": []
  }
 ],
 "metadata": {
  "kernelspec": {
   "display_name": "Python 3 (ipykernel)",
   "language": "python",
   "name": "python3"
  },
  "language_info": {
   "codemirror_mode": {
    "name": "ipython",
    "version": 3
   },
   "file_extension": ".py",
   "mimetype": "text/x-python",
   "name": "python",
   "nbconvert_exporter": "python",
   "pygments_lexer": "ipython3",
   "version": "3.9.13"
  }
 },
 "nbformat": 4,
 "nbformat_minor": 2
}
