{
 "cells": [
  {
   "cell_type": "markdown",
   "metadata": {},
   "source": [
    "# Lab 8 : Star Formation "
   ]
  },
  {
   "cell_type": "code",
   "execution_count": 1,
   "metadata": {},
   "outputs": [],
   "source": [
    "import numpy as np\n",
    "from astropy import units as u\n",
    "from astropy import constants as const\n",
    "\n",
    "import matplotlib\n",
    "import matplotlib.pyplot as plt\n",
    "from matplotlib.colors import LogNorm\n",
    "%matplotlib inline"
   ]
  },
  {
   "cell_type": "markdown",
   "metadata": {},
   "source": [
    "# Part A\n",
    "\n",
    "Create a function that returns the SFR for a given luminosity (NUV, FUV, TIR, Halpha)\n",
    "\n",
    "$Log( {\\rm SFR} (M_\\odot/year)) = Log(Lx (erg/s)) - Log(Cx)$ \n",
    "\n",
    "Including corrections for dust absorption \n",
    "\n",
    "Kennicutt & Evans 2012 ARA&A Equation 12 and Table 1, 2"
   ]
  },
  {
   "cell_type": "code",
   "execution_count": 2,
   "metadata": {},
   "outputs": [],
   "source": [
    "def StarFormationRate(L,Type,TIR=0):\n",
    "    \"\"\"Computes SFR of galaxy following Kennicutt & Evans 2012 eq 12(ARA&A 50)\n",
    "    Inputs:\n",
    "        :L(float): Luminosity of galaxy in particular wave band (erg/s)\n",
    "        :Type(string): Wavelength (FUV,NUV,TIR,Halpha)\n",
    "        :TIR(float): Total Infrared Luminosity (erg/s) default = 0\n",
    "    Returns:\n",
    "        ::SFR(float) Log of SFR (Msun/yr)\"\"\"\n",
    "\n",
    "    if (Type == 'FUV'):\n",
    "        logCx = 43.35 #Calibration from Table 1 of K&E 2012\n",
    "        TIRc = 0.46 #dust correction from Table 2 of K&E 2012\n",
    "    elif (Type == 'NUV'):\n",
    "        logCx = 43.17\n",
    "        TIRc = 0.27\n",
    "    elif (Type == 'Halpha'):\n",
    "        logCx = 41.27\n",
    "        TIRc = 0.0024\n",
    "    elif (Type == 'TIR'):\n",
    "        logCx = 43.41\n",
    "        TIRc = 0\n",
    "    else:\n",
    "        print(\"Missing Wavlength: FUV, NUV, Halpha, TIR\")    \n",
    "        \n",
    "    Lnew = L + TIRc*TIR #correct Luminosity for dust using TIR \n",
    "    \n",
    "    SFR = np.log10(Lnew) - logCx  \n",
    "        \n",
    "    return SFR"
   ]
  },
  {
   "cell_type": "markdown",
   "metadata": {},
   "source": [
    "Let's try to reproduce SFRs derived for galaxies from UV luminosities measured with Galex. \n",
    "\n",
    "Using Table 1 from Lee et al. 2009\n",
    "https://ui.adsabs.harvard.edu/abs/2009ApJ...706..599L/abstract\n",
    "\n",
    "We will use galaxy properties from NED:\n",
    "https://ned.ipac.caltech.edu/"
   ]
  },
  {
   "cell_type": "code",
   "execution_count": 5,
   "metadata": {},
   "outputs": [
    {
     "data": {
      "text/plain": [
       "3.828e+33"
      ]
     },
     "execution_count": 5,
     "metadata": {},
     "output_type": "execute_result"
    }
   ],
   "source": [
    "#Lsun(bolometric)\n",
    "const.L_sun\n",
    "LsunErgS = const.L_sun.to(u.erg/u.s).value"
   ]
  },
  {
   "cell_type": "code",
   "execution_count": 6,
   "metadata": {},
   "outputs": [
    {
     "name": "stdout",
     "output_type": "stream",
     "text": [
      "-2.3322074670824904\n"
     ]
    }
   ],
   "source": [
    "#  WLM Dwarf Irregular Galaxy\n",
    "#from NED, NUV: L=1.71e7 Lsun(Gal-EX)\n",
    "#NIR L=2.48e6 Lsun (IRac-Spitzer)\n",
    "#FIR L =7.84e5 Lsun\n",
    "\n",
    "NUV_WLM = 1.71e7*LsunErgS\n",
    "TIR_WLM = 2.48e6*LsunErgS + 7.84e5*LsunErgS #(FIR+NIR)\n",
    "print(StarFormationRate(NUV_WLM,'NUV',TIR_WLM)) #log of SFR"
   ]
  },
  {
   "cell_type": "code",
   "execution_count": 7,
   "metadata": {},
   "outputs": [
    {
     "name": "stdout",
     "output_type": "stream",
     "text": [
      "-0.8055527449424105\n"
     ]
    }
   ],
   "source": [
    "#  N24 Sc galaxy\n",
    "#from NED, NUV: L=2.96e8 Lsun\n",
    "#NIR L=8.34e8 Lsun\n",
    "#FIR L =3.09e8 Lsun\n",
    "NUV_N24 = 2.96e8*LsunErgS\n",
    "TIR_N24 = 8.34e8*LsunErgS + 3.09e8*LsunErgS #(FIR+NIR)\n",
    "print(StarFormationRate(NUV_N24,'NUV',TIR_N24)) #log of SFR"
   ]
  },
  {
   "cell_type": "markdown",
   "metadata": {},
   "source": [
    "# Part B Star formation main sequence\n",
    "\n",
    "1) Write a function that returns the average SFR of a galaxy at a given redshift. \n",
    "\n",
    "2) What is the average SFR of a MW mass galaxy today? at z=1?\n",
    "\n",
    "3) Plot the SFR main sequence for a few different redshifts from 1e9 to 1e12 Msun.\n",
    "\n",
    "\n",
    "From Whitaker 2012:\n",
    "\n",
    "log(SFR) = $\\alpha(z)({\\rm log}M_\\ast - 10.5) + \\beta(z)$\n",
    "\n",
    "$\\alpha(z) = 0.7 - 0.13z$\n",
    "\n",
    "$\\beta(z) = 0.38 + 1.14z - 0.19z^2$"
   ]
  },
  {
   "cell_type": "markdown",
   "metadata": {},
   "source": [
    "# Step 1"
   ]
  },
  {
   "cell_type": "code",
   "execution_count": 8,
   "metadata": {},
   "outputs": [],
   "source": [
    "def SFRMainSequence(Mstar,z):\n",
    "    \"\"\"Avg. SFR of galaxy as funct. of stellar mass\n",
    "    Inputs:\n",
    "        :Mstar(float): Stellar mass of galaxy (Msun)\n",
    "        :z(float): redshift\n",
    "    Returns:\n",
    "        ::log Average SFR(float) in Msun/yr\"\"\"\n",
    "        \n",
    "    alpha = 0.7-0.13*z\n",
    "    beta = 0.38+1.14*z - 0.19*z**2\n",
    "    logSFR = alpha *(np.log10(Mstar)-10.5) +beta\n",
    "    return logSFR\n"
   ]
  },
  {
   "cell_type": "markdown",
   "metadata": {},
   "source": [
    "# Step 2"
   ]
  },
  {
   "cell_type": "code",
   "execution_count": 9,
   "metadata": {},
   "outputs": [
    {
     "name": "stdout",
     "output_type": "stream",
     "text": [
      "4.5937038237959715\n"
     ]
    }
   ],
   "source": [
    "# MW at z=0\n",
    "MW_disk = 8e10\n",
    "\n",
    "print(10**SFRMainSequence(MW_disk,0))"
   ]
  },
  {
   "cell_type": "code",
   "execution_count": 10,
   "metadata": {},
   "outputs": [
    {
     "name": "stdout",
     "output_type": "stream",
     "text": [
      "36.287854588142594\n"
     ]
    }
   ],
   "source": [
    "# MW at z = 1\n",
    "print(10**SFRMainSequence(MW_disk,1))"
   ]
  },
  {
   "cell_type": "markdown",
   "metadata": {},
   "source": [
    "# Step 3"
   ]
  },
  {
   "cell_type": "code",
   "execution_count": null,
   "metadata": {},
   "outputs": [],
   "source": [
    "# create an array of stellar masses\n"
   ]
  },
  {
   "cell_type": "code",
   "execution_count": null,
   "metadata": {},
   "outputs": [],
   "source": [
    "\n",
    "fig = plt.figure(figsize=(8,8), dpi=500)\n",
    "ax = plt.subplot(111)\n",
    "\n",
    "# add log log plots\n",
    "\n",
    "\n",
    "# Add axis labels\n",
    "plt.xlabel('Log (Mstar (M$_\\odot$))', fontsize=12)\n",
    "plt.ylabel('Log(SFR (M$_\\odot$/year))', fontsize=12)\n",
    "\n",
    "\n",
    "#adjust tick label font size\n",
    "label_size = 12\n",
    "matplotlib.rcParams['xtick.labelsize'] = label_size \n",
    "matplotlib.rcParams['ytick.labelsize'] = label_size\n",
    "\n",
    "# add a legend with some customizations.\n",
    "legend = ax.legend(loc='upper left',fontsize='x-large')\n"
   ]
  },
  {
   "cell_type": "markdown",
   "metadata": {},
   "source": [
    "# Part C  Starbursts\n",
    "\n",
    "Use your `StarFormationRate` code to determine the typical star formation rates for the following systems with the listed Total Infrared Luminosities (TIR): \n",
    "\n",
    "Normal Galaxies: $10^{10}$ L$_\\odot$\n",
    "\n",
    "LIRG: $10^{11}$ L$_\\odot$\n",
    "\n",
    "ULIRG: $10^{12} $ L$_\\odot$\n",
    "\n",
    "HLIRG: $10^{13} $ L$_\\odot$"
   ]
  },
  {
   "cell_type": "code",
   "execution_count": null,
   "metadata": {},
   "outputs": [],
   "source": [
    "# normal galaxies \n"
   ]
  },
  {
   "cell_type": "code",
   "execution_count": null,
   "metadata": {},
   "outputs": [],
   "source": [
    "# LIRGs  \n"
   ]
  },
  {
   "cell_type": "code",
   "execution_count": null,
   "metadata": {},
   "outputs": [],
   "source": [
    "# ULIRGs"
   ]
  },
  {
   "cell_type": "code",
   "execution_count": null,
   "metadata": {},
   "outputs": [],
   "source": [
    "# HLIRGs"
   ]
  },
  {
   "cell_type": "code",
   "execution_count": null,
   "metadata": {},
   "outputs": [],
   "source": []
  }
 ],
 "metadata": {
  "kernelspec": {
   "display_name": "Python 3 (ipykernel)",
   "language": "python",
   "name": "python3"
  },
  "language_info": {
   "codemirror_mode": {
    "name": "ipython",
    "version": 3
   },
   "file_extension": ".py",
   "mimetype": "text/x-python",
   "name": "python",
   "nbconvert_exporter": "python",
   "pygments_lexer": "ipython3",
   "version": "3.9.7"
  }
 },
 "nbformat": 4,
 "nbformat_minor": 4
}
